{
  "nbformat": 4,
  "nbformat_minor": 0,
  "metadata": {
    "colab": {
      "provenance": [],
      "authorship_tag": "ABX9TyM5NMLCOwX/5bAo/J34rhg9",
      "include_colab_link": true
    },
    "kernelspec": {
      "name": "python3",
      "display_name": "Python 3"
    },
    "language_info": {
      "name": "python"
    }
  },
  "cells": [
    {
      "cell_type": "markdown",
      "metadata": {
        "id": "view-in-github",
        "colab_type": "text"
      },
      "source": [
        "<a href=\"https://colab.research.google.com/github/jamiesonpa/chart_wizards/blob/main/horizontal_bar_chart_wizard.ipynb\" target=\"_parent\"><img src=\"https://colab.research.google.com/assets/colab-badge.svg\" alt=\"Open In Colab\"/></a>"
      ]
    },
    {
      "cell_type": "markdown",
      "source": [
        "# ***This module is meant to provide a template for anyone at ARK who is interested in making a simple horizontal bar chart. Please make a copy of this notebook if you are interested in using this code. Do not edit it.***"
      ],
      "metadata": {
        "id": "njt8vDoKp5b0"
      }
    },
    {
      "cell_type": "code",
      "execution_count": 2,
      "metadata": {
        "id": "FWieU91Ep2cX"
      },
      "outputs": [],
      "source": [
        "import pandas as pd\n",
        "import numpy as np\n",
        "import matplotlib\n",
        "import matplotlib.pyplot as plt\n",
        "import seaborn as sns"
      ]
    },
    {
      "cell_type": "markdown",
      "source": [
        "Now we read your data into the python file using the pandas function \"read_csv()\". Change the name of the file that the function is reading (\"your_data_here.csv\") to the name of your file after dragging your file into the directory on the left."
      ],
      "metadata": {
        "id": "focfTiOtp8lw"
      }
    },
    {
      "cell_type": "code",
      "source": [
        "df = pd.read_csv('your_data_here.csv')\n",
        "\n",
        "print(\"Here is what the first few lines of your data look like:\")\n",
        "print(df.head())\n"
      ],
      "metadata": {
        "colab": {
          "base_uri": "https://localhost:8080/"
        },
        "id": "JYJwnsYkp8uz",
        "outputId": "b0be3229-5537-4f64-e391-e846be426c39"
      },
      "execution_count": 4,
      "outputs": [
        {
          "output_type": "stream",
          "name": "stdout",
          "text": [
            "Here is what the first few lines of your data look like:\n",
            "   country  beer_servings  spirit_servings  wine_servings\n",
            "0  Albania             89              132             54\n",
            "1  Algeria             25                0             14\n",
            "2  Andorra            245              138            312\n"
          ]
        }
      ]
    },
    {
      "cell_type": "markdown",
      "source": [
        "Here is where we define what your plot will look like."
      ],
      "metadata": {
        "id": "r3dcyBynp8yW"
      }
    },
    {
      "cell_type": "code",
      "source": [
        "#change this to suit your needs\n",
        "column_name_that_contains_y_axis_labels = \"beer_servings\"\n",
        "column_name_that_contains_x_axis_values = \"country\"\n",
        "\n",
        "#change these to make the axis title and main title correct\n",
        "x_title = \"this is the x axis\"\n",
        "y_title = \"this is the y axis\"\n",
        "title = \"this is the title\"\n",
        "\n",
        "#change these to make the axis titles and main title font sizes correct\n",
        "xtitle_fontsize = 18\n",
        "ytitle_fontsize = 18\n",
        "title_fontsize = 22\n",
        "\n",
        "#change these to make the axis label font sizes correct\n",
        "xlab_fontsize = 12\n",
        "ylab_fontsize = 12\n",
        "\n",
        "#change these if you want to make your x axis labels rotate, if you want them horizontal leave it at 0\n",
        "y_label_rotation = 0\n",
        "\n",
        "\n",
        "#change these if you want to change the size of your plot\n",
        "x_dimension = 10\n",
        "y_dimension = 5\n",
        "\n",
        "#change this to whatever you want the width of your bars to be\n",
        "bar_height = 0.4\n",
        "\n",
        "#change this to the color that you want your bars to be, possible_colors = ['black', 'red', 'green', 'blue', 'cyan', 'etc] :\n",
        "# ark_colors = ['#8264ff', '#38d996','#f74870','#fcc049', '#4598ab'] #corresponds to ark's purple, green, red, yellow, and cyanish colors.\n",
        "#if you don't want all of your bars to be the same color, then set bar_color to be a list of colors that corresponds from left to right with your bars.\n",
        "\n",
        "bar_color = \"#8264ff\"\n",
        "#bar_color = ['#8264ff', '#38d996','#f74870'] #this is what your color list might look like if you want different colored bars.\n",
        "\n",
        "\n",
        "#if you want your bars to have outlines, then set this equal to the width of the outlines that you would prefer. If you would not like outlines, then set this equal to 0.\n",
        "outline_width = 0\n",
        "\n",
        "#do the same thing for the outline colors as you did with the bar colors\n",
        "outline_color = \"#8264ff\"\n",
        "\n"
      ],
      "metadata": {
        "id": "-pgdyE6lp87g"
      },
      "execution_count": 5,
      "outputs": []
    },
    {
      "cell_type": "code",
      "source": [
        "#leave this alone\n",
        "fig, ax = plt.subplots()\n",
        "x = df[column_name_that_contains_x_axis_values]\n",
        "y = df[column_name_that_contains_y_axis_labels]\n",
        "\n",
        "plt.barh(x, y, color = bar_color, height = bar_height, linewidth = outline_width, edgecolor = outline_color)\n",
        "plt.xticks(fontsize = xlab_fontsize)\n",
        "plt.yticks(rotation = y_label_rotation,fontsize = ylab_fontsize)\n",
        "plt.xlabel(x_title, fontsize = xlab_fontsize)\n",
        "plt.ylabel(y_title, fontsize = ylab_fontsize)\n",
        "plt.title(title, fontsize = title_fontsize)\n",
        "fig.set_size_inches(x_dimension, y_dimension)\n",
        "plt.show()"
      ],
      "metadata": {
        "colab": {
          "base_uri": "https://localhost:8080/",
          "height": 362
        },
        "id": "Zdgl1o_RqMRM",
        "outputId": "0d654bea-23c8-416d-e491-b206455cbc27"
      },
      "execution_count": 9,
      "outputs": [
        {
          "output_type": "display_data",
          "data": {
            "text/plain": [
              "<Figure size 720x360 with 1 Axes>"
            ],
            "image/png": "[encoded data removed]"
          },
          "metadata": {
            "needs_background": "light"
          }
        }
      ]
    }
  ]
}