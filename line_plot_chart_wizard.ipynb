{
  "nbformat": 4,
  "nbformat_minor": 0,
  "metadata": {
    "colab": {
      "provenance": [],
      "authorship_tag": "ABX9TyPuIMcL318cbHsmjpWP3j2i",
      "include_colab_link": true
    },
    "kernelspec": {
      "name": "python3",
      "display_name": "Python 3"
    },
    "language_info": {
      "name": "python"
    }
  },
  "cells": [
    {
      "cell_type": "markdown",
      "metadata": {
        "id": "view-in-github",
        "colab_type": "text"
      },
      "source": [
        "<a href=\"https://colab.research.google.com/github/jamiesonpa/chart_wizards/blob/main/line_plot_chart_wizard.ipynb\" target=\"_parent\"><img src=\"https://colab.research.google.com/assets/colab-badge.svg\" alt=\"Open In Colab\"/></a>"
      ]
    },
    {
      "cell_type": "code",
      "execution_count": null,
      "metadata": {
        "id": "bPGllTInWmuS"
      },
      "outputs": [],
      "source": [
        "import pandas as pd\n",
        "import numpy as np\n",
        "import matplotlib\n",
        "import matplotlib.pyplot as plt\n",
        "import seaborn as sns"
      ]
    },
    {
      "cell_type": "code",
      "source": [
        "df = pd.read_csv('example_data.csv')\n",
        "\n",
        "print(\"Here is what the first few lines of your data look like:\")\n",
        "print(df.head())"
      ],
      "metadata": {
        "colab": {
          "base_uri": "https://localhost:8080/"
        },
        "id": "6nW4iLGzXC5t",
        "outputId": "4f19be95-72e6-4d4a-e9ff-6303ea9e09fc"
      },
      "execution_count": null,
      "outputs": [
        {
          "output_type": "stream",
          "name": "stdout",
          "text": [
            "Here is what the first few lines of your data look like:\n",
            "   value_x   value_y   value_z\n",
            "0        1  1.570000  1.470000\n",
            "1        2  2.464900  2.160900\n",
            "2        3  3.869893  3.176523\n",
            "3        4  6.075732  4.669489\n",
            "4        5  9.538899  6.864149\n"
          ]
        }
      ]
    },
    {
      "cell_type": "code",
      "source": [
        "#change this to suit your needs\n",
        "column_name_that_contains_y0_axis_values = \"value_y\"\n",
        "column_name_that_contains_x0_axis_values = \"value_x\"\n",
        "\n",
        "#if you want more lines, uncomment this and add the x and y value columns you want to use.\n",
        "column_name_that_contains_y1_axis_values = \"value_z\"\n",
        "column_name_that_contains_x1_axis_values = \"value_x\"\n",
        "\n",
        "#if you want more lines, uncomment this and add the x and y value columns you want to use.\n",
        "# column_name_that_contains_y2_axis_values = \"value_x2\"\n",
        "# column_name_that_contains_x2_axis_values = \"value_y2\"\n",
        "\n",
        "\n",
        "\n",
        "#change these to make the axis title and main title correct\n",
        "x_title = \"this is the x axis\"\n",
        "y_title = \"this is the y axis\"\n",
        "title = \"this is the title\"\n",
        "\n",
        "#change these to make the axis titles and main title font sizes correct\n",
        "xtitle_fontsize = 18\n",
        "ytitle_fontsize = 18\n",
        "title_fontsize = 22\n",
        "\n",
        "#change these to make the axis label font sizes correct\n",
        "xlab_fontsize = 12\n",
        "ylab_fontsize = 12\n",
        "\n",
        "#change these if you want to make your x axis labels rotate, if you want them horizontal leave it at 0\n",
        "y_label_rotation = 0\n",
        "\n",
        "\n",
        "#change these if you want to change the size of your plot\n",
        "x_dimension = 10\n",
        "y_dimension = 5\n",
        "\n",
        "\n",
        "\n",
        "#change this to the color that you want your bars to be, possible_colors = ['black', 'red', 'green', 'blue', 'cyan', 'etc] :\n",
        "# ark_colors = ['#8264ff', '#38d996','#f74870','#fcc049', '#4598ab'] #corresponds to ark's purple, green, red, yellow, and cyanish colors.\n",
        "#if you don't want all of your bars to be the same color, then set bar_color to be a list of colors that corresponds from left to right with your bars.\n",
        "\n",
        "line_colorA = \"#8264ff\"\n",
        "\n",
        "line_colorB = \"#38d996\"\n",
        "#line_color = ['#8264ff', '#38d996','#f74870'] #this is what your color list might look like if you want different colored bars.\n",
        "\n"
      ],
      "metadata": {
        "id": "BGHuwVT1XFPt"
      },
      "execution_count": null,
      "outputs": []
    },
    {
      "cell_type": "code",
      "source": [
        "fig, ax = plt.subplots()\n",
        "#here is the first line\n",
        "x0 = df[column_name_that_contains_x0_axis_values]\n",
        "y0 = df[column_name_that_contains_y0_axis_values]\n",
        "  \n",
        "#uncomment this if you have more lines\n",
        "x1 = df[column_name_that_contains_x1_axis_values]\n",
        "y1 = df[column_name_that_contains_y1_axis_values]\n",
        "\n",
        "# first plot with X0 and Y0 data\n",
        "plt.plot(x0, y0, color = line_colorA)\n",
        "\n",
        "# if you have mulitple lines, plot with X1 and Y1 data and so on\n",
        "plt.plot(x1, y1, color = line_colorB)\n",
        "  \n",
        "fig.set_size_inches(x_dimension, y_dimension)\n",
        "plt.xlabel(\"X-axis data\")\n",
        "plt.ylabel(\"Y-axis data\")\n",
        "plt.title('this is a title')\n",
        "plt.show()"
      ],
      "metadata": {
        "colab": {
          "base_uri": "https://localhost:8080/",
          "height": 350
        },
        "id": "UwtuQRJUXFy7",
        "outputId": "741c67b6-6abb-4be4-94fb-876c57eaf966"
      },
      "execution_count": null,
      "outputs": [
        {
          "output_type": "display_data",
          "data": {
            "text/plain": [
              "<Figure size 720x360 with 1 Axes>"
            ],
            "image/png": "[encoded data removed]"
          },
          "metadata": {
            "needs_background": "light"
          }
        }
      ]
    }
  ]
}