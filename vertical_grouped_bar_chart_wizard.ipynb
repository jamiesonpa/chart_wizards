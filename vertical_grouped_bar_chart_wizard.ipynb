{
  "nbformat": 4,
  "nbformat_minor": 0,
  "metadata": {
    "colab": {
      "provenance": [],
      "authorship_tag": "ABX9TyM052yDpdoEcv3jhdZN6R60",
      "include_colab_link": true
    },
    "kernelspec": {
      "name": "python3",
      "display_name": "Python 3"
    },
    "language_info": {
      "name": "python"
    }
  },
  "cells": [
    {
      "cell_type": "markdown",
      "metadata": {
        "id": "view-in-github",
        "colab_type": "text"
      },
      "source": [
        "<a href=\"https://colab.research.google.com/github/jamiesonpa/chart_wizards/blob/main/vertical_grouped_bar_chart_wizard.ipynb\" target=\"_parent\"><img src=\"https://colab.research.google.com/assets/colab-badge.svg\" alt=\"Open In Colab\"/></a>"
      ]
    },
    {
      "cell_type": "markdown",
      "source": [
        "# **This module is meant to provide a template for anyone at ARK who is interested in making a simple vertical grouped bar chart. Please make a copy of this notebook if you are interested in using this code. Do not edit it.**"
      ],
      "metadata": {
        "id": "xRh-iP4ftwWR"
      }
    },
    {
      "cell_type": "code",
      "execution_count": null,
      "metadata": {
        "colab": {
          "base_uri": "https://localhost:8080/"
        },
        "id": "JN-NRO8ktvo4",
        "outputId": "fc6acf26-205e-4c14-f6c4-aea0d2b32feb"
      },
      "outputs": [
        {
          "output_type": "stream",
          "name": "stdout",
          "text": [
            "Looking in indexes: https://pypi.org/simple, https://us-python.pkg.dev/colab-wheels/public/simple/\n",
            "Requirement already satisfied: matplotlib in /usr/local/lib/python3.8/dist-packages (3.6.2)\n",
            "Requirement already satisfied: cycler>=0.10 in /usr/local/lib/python3.8/dist-packages (from matplotlib) (0.11.0)\n",
            "Requirement already satisfied: fonttools>=4.22.0 in /usr/local/lib/python3.8/dist-packages (from matplotlib) (4.38.0)\n",
            "Requirement already satisfied: kiwisolver>=1.0.1 in /usr/local/lib/python3.8/dist-packages (from matplotlib) (1.4.4)\n",
            "Requirement already satisfied: contourpy>=1.0.1 in /usr/local/lib/python3.8/dist-packages (from matplotlib) (1.0.6)\n",
            "Requirement already satisfied: numpy>=1.19 in /usr/local/lib/python3.8/dist-packages (from matplotlib) (1.21.6)\n",
            "Requirement already satisfied: pillow>=6.2.0 in /usr/local/lib/python3.8/dist-packages (from matplotlib) (7.1.2)\n",
            "Requirement already satisfied: pyparsing>=2.2.1 in /usr/local/lib/python3.8/dist-packages (from matplotlib) (3.0.9)\n",
            "Requirement already satisfied: python-dateutil>=2.7 in /usr/local/lib/python3.8/dist-packages (from matplotlib) (2.8.2)\n",
            "Requirement already satisfied: packaging>=20.0 in /usr/local/lib/python3.8/dist-packages (from matplotlib) (21.3)\n",
            "Requirement already satisfied: six>=1.5 in /usr/local/lib/python3.8/dist-packages (from python-dateutil>=2.7->matplotlib) (1.15.0)\n"
          ]
        }
      ],
      "source": [
        "!pip install matplotlib --upgrade\n",
        "import pandas as pd\n",
        "import numpy as np\n",
        "import matplotlib\n",
        "import matplotlib.pyplot as plt\n",
        "import seaborn as sns"
      ]
    },
    {
      "cell_type": "code",
      "source": [
        "df = pd.read_csv('your_data_here.csv')\n",
        "\n",
        "print(\"Here is what the first few lines of your data look like:\")\n",
        "print(df.head())"
      ],
      "metadata": {
        "colab": {
          "base_uri": "https://localhost:8080/"
        },
        "id": "AjLXfwlmuA51",
        "outputId": "ef1507f6-bad2-4e2a-f0bd-351b714903fc"
      },
      "execution_count": null,
      "outputs": [
        {
          "output_type": "stream",
          "name": "stdout",
          "text": [
            "Here is what the first few lines of your data look like:\n",
            "   country  beer_servings  spirit_servings  wine_servings\n",
            "0  Albania             89              132             54\n",
            "1  Algeria             25                0             14\n",
            "2  Andorra            245              138            312\n"
          ]
        }
      ]
    },
    {
      "cell_type": "code",
      "source": [
        "#change this to suit your needs\n",
        "column_name_that_contains_first_y_axis_values = \"wine_servings\"\n",
        "column_name_that_contains_second_y_axis_values = \"beer_servings\"\n",
        "column_name_that_contains_x_axis_labels = \"country\"\n",
        "\n",
        "\n",
        "#change these to make the axis title and main title correct\n",
        "x_title = \"this is the x axis\"\n",
        "y_title = \"this is the y axis\"\n",
        "title = \"this is the title\"\n",
        "\n",
        "#change these to make the axis titles and main title font sizes correct\n",
        "xtitle_fontsize = 18\n",
        "ytitle_fontsize = 18\n",
        "title_fontsize = 22\n",
        "\n",
        "#change these to make the axis label font sizes correct\n",
        "xlab_fontsize = 12\n",
        "ylab_fontsize = 12\n",
        "\n",
        "#change these if you want to make your x axis labels rotate, if you want them horizontal leave it at 0\n",
        "x_label_rotation = 0\n",
        "\n",
        "\n",
        "#change these if you want to change the size of your plot\n",
        "x_dimension = 10\n",
        "y_dimension = 7\n",
        "\n",
        "#change this to whatever you want the width of your bars to be\n",
        "bar_width = 0.4\n",
        "\n",
        "#change this to the color that you want your bars to be, possible_colors = ['black', 'red', 'green', 'blue', 'cyan', 'etc] :\n",
        "# ark_colors = ['#8264ff', '#38d996','#f74870','#fcc049', '#4598ab'] #corresponds to ark's purple, green, red, yellow, and cyanish colors.\n",
        "\n",
        "#set color A and B to be the different colors of the two bars in each group.\n",
        "\n",
        "colorA = \"#8264ff\"\n",
        "colorB = '#38d996'\n",
        "\n",
        "#if you want your bars to have outlines, then set this equal to the width of the outlines that you would prefer. If you would not like outlines, then set this equal to 0.\n",
        "outline_width = 0\n",
        "\n",
        "#do the same thing for the outline colors as you did with the bar colors\n",
        "\n",
        "outline_colorA = \"#8264ff\"\n",
        "outline_colorB = \"#8264ff\"\n",
        "\n",
        "\n",
        "#choose the padding between the groups that you want (0 - 10 are good numbers to try)\n",
        "group_padding = 5"
      ],
      "metadata": {
        "id": "dzvI_CpiuBsT"
      },
      "execution_count": null,
      "outputs": []
    },
    {
      "cell_type": "code",
      "source": [
        "x_labels = df[column_name_that_contains_x_axis_labels].to_list()\n",
        "vals_a = df[column_name_that_contains_first_y_axis_values]\n",
        "vals_b = df[column_name_that_contains_second_y_axis_values]\n",
        "\n",
        "x = np.arange(len(x_labels))\n",
        "print(str(len(x_labels)))\n",
        "print(str(x))\n",
        "width = bar_width \n",
        "\n",
        "fig, ax = plt.subplots()\n",
        "rects1 = ax.bar(x - width/2, vals_a, width, label=column_name_that_contains_first_y_axis_values, color = colorA, linewidth = outline_width, edgecolor = outline_colorA)\n",
        "rects2 = ax.bar(x + width/2, vals_b, width, label=column_name_that_contains_second_y_axis_values, color = colorB, linewidth = outline_width, edgecolor = outline_colorB)\n",
        "\n",
        "ax.set_ylabel(y_title)\n",
        "ax.set_xlabel(x_title)\n",
        "ax.set_title(title)\n",
        "ax.set_xticks(x, x_labels)\n",
        "ax.legend()\n",
        "\n",
        "ax.bar_label(rects1, padding=group_padding)\n",
        "ax.bar_label(rects2, padding=group_padding)\n",
        "\n",
        "fig.set_size_inches(x_dimension, y_dimension)\n",
        "\n",
        "plt.show()"
      ],
      "metadata": {
        "colab": {
          "base_uri": "https://localhost:8080/",
          "height": 495
        },
        "id": "mhAmXV5MuGp7",
        "outputId": "aa0d5f47-a763-4679-b4c8-ab8cfdf73b9d"
      },
      "execution_count": null,
      "outputs": [
        {
          "output_type": "stream",
          "name": "stdout",
          "text": [
            "3\n",
            "[0 1 2]\n"
          ]
        },
        {
          "output_type": "display_data",
          "data": {
            "text/plain": [
              "<Figure size 720x504 with 1 Axes>"
            ],
            "image/png": "[encoded data removed]"
          },
          "metadata": {
            "needs_background": "light"
          }
        }
      ]
    }
  ]
}